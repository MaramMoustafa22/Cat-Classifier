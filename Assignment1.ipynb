{
  "nbformat": 4,
  "nbformat_minor": 0,
  "metadata": {
    "colab": {
      "name": "Assignment1",
      "provenance": [],
      "collapsed_sections": []
    },
    "kernelspec": {
      "name": "python3",
      "display_name": "Python 3"
    },
    "language_info": {
      "name": "python"
    }
  },
  "cells": [
    {
      "cell_type": "code",
      "source": [
        "from google.colab import drive"
      ],
      "metadata": {
        "id": "stIVFy1aAQyZ"
      },
      "execution_count": 5,
      "outputs": []
    },
    {
      "cell_type": "code",
      "source": [
        "drive.mount('/content/gdrive')\n",
        "!touch \"/content/gdrive/MyDrive/files\""
      ],
      "metadata": {
        "colab": {
          "base_uri": "https://localhost:8080/"
        },
        "id": "LQZq5VZZAz7-",
        "outputId": "b3e053fe-64b3-4ba3-9943-7bed9da72118"
      },
      "execution_count": 6,
      "outputs": [
        {
          "output_type": "stream",
          "name": "stdout",
          "text": [
            "Mounted at /content/gdrive\n"
          ]
        }
      ]
    },
    {
      "cell_type": "code",
      "source": [
        "import numpy as np\n",
        "import matplotlib.pyplot as plt\n",
        "import h5py\n",
        "import scipy\n",
        "from PIL import Image\n",
        "from scipy import ndimage"
      ],
      "metadata": {
        "id": "inv_93z7AcYP"
      },
      "execution_count": 4,
      "outputs": []
    },
    {
      "cell_type": "markdown",
      "source": [
        "Loading Data"
      ],
      "metadata": {
        "id": "QWT9opxLFXVq"
      }
    },
    {
      "cell_type": "code",
      "source": [
        "def load_data():\n",
        "  train_dataset = h5py.File('/content/gdrive/MyDrive/DL/train_catvnoncat.h5','r')\n",
        "  train_set_x = np.array(train_dataset[\"train_set_x\"][:])\n",
        "  train_set_y = np.array(train_dataset['train_set_y'][:])\n",
        "\n",
        "  test_dataset = h5py.File('/content/gdrive/MyDrive/DL/test_catvnoncat.h5','r')\n",
        "  test_set_x= np.array(test_dataset[\"test_set_x\"][:])\n",
        "  test_set_y = np.array(test_dataset[\"test_set_y\"][:])\n",
        "\n",
        "  classes = np.array(test_dataset[\"list_classes\"][:])\n",
        "\n",
        "  train_set_y = train_set_y.reshape((1, train_set_y.shape[0]))\n",
        "  test_set_y = test_set_y.reshape((1,test_set_y.shape[0]))\n",
        "\n",
        "  return train_set_x, train_set_y, test_set_x,test_set_y ,classes"
      ],
      "metadata": {
        "id": "uf0aQdxyELHG"
      },
      "execution_count": 7,
      "outputs": []
    },
    {
      "cell_type": "code",
      "source": [
        "train_set_x, train_set_y, test_set_x, test_set_y, classes = load_data()"
      ],
      "metadata": {
        "id": "Gdq4uNULFZxp"
      },
      "execution_count": 8,
      "outputs": []
    },
    {
      "cell_type": "code",
      "source": [
        "index = 19\n",
        "plt.imshow(train_set_x[index])\n",
        "plt.show()\n",
        "print(str(train_set_y[:, index])) "
      ],
      "metadata": {
        "colab": {
          "base_uri": "https://localhost:8080/",
          "height": 285
        },
        "id": "W4af7Z8lG2xj",
        "outputId": "19de477b-fb10-4089-e8a8-547cbe5f0b19"
      },
      "execution_count": 9,
      "outputs": [
        {
          "output_type": "display_data",
          "data": {
            "text/plain": [
              "<Figure size 432x288 with 1 Axes>"
            ],
            "image/png": "[encoded data removed]"
          },
          "metadata": {
            "needs_background": "light"
          }
        },
        {
          "output_type": "stream",
          "name": "stdout",
          "text": [
            "[1]\n"
          ]
        }
      ]
    },
    {
      "cell_type": "markdown",
      "source": [
        "Find the values for:\n",
        "\n",
        "- m_train (number of training examples)\n",
        "- m_test (number of test examples)\n",
        "- num_px (= height = width of a training image)"
      ],
      "metadata": {
        "id": "h0wz51PfNiQg"
      }
    },
    {
      "cell_type": "code",
      "source": [
        "m_train = train_set_x.shape[0]\n",
        "m_test =  test_set_x.shape[0]\n",
        "num_px = test_set_x.shape[1]"
      ],
      "metadata": {
        "id": "JhBk1LScHFMJ"
      },
      "execution_count": 10,
      "outputs": []
    },
    {
      "cell_type": "code",
      "source": [
        "print(\"The number of training examples:\",m_train)\n",
        "print(\"The number of testing examples:\",m_test)\n",
        "print(\"Hight/width for each image:\",num_px)"
      ],
      "metadata": {
        "colab": {
          "base_uri": "https://localhost:8080/"
        },
        "id": "S3WUCJxNP6wS",
        "outputId": "b7ad4166-02a3-494b-ad51-47f07461f8d4"
      },
      "execution_count": 11,
      "outputs": [
        {
          "output_type": "stream",
          "name": "stdout",
          "text": [
            "The number of training examples: 209\n",
            "The number of testing examples: 50\n",
            "Hight/width for each image: 64\n"
          ]
        }
      ]
    },
    {
      "cell_type": "markdown",
      "source": [
        "Reshape the training and test data sets \n",
        "\n",
        "so that images of size (num_px, num_px, 3) are flattened into single vectors of shape (num_px * num_px * 3, 1)."
      ],
      "metadata": {
        "id": "9XT5RNxlQx6o"
      }
    },
    {
      "cell_type": "code",
      "source": [
        "train_set_x_flatten = train_set_x.reshape(train_set_x.shape[0], -1).T\n",
        "test_set_x_flatten = test_set_x.reshape(test_set_x.shape[0], -1).T"
      ],
      "metadata": {
        "id": "EONjXc0UQsZ0"
      },
      "execution_count": 12,
      "outputs": []
    },
    {
      "cell_type": "code",
      "source": [
        "print(\"The shape before (Trainning set):\",train_set_x.shape)\n",
        "print(\"The shape after (Trainning set):\",train_set_x_flatten.shape)"
      ],
      "metadata": {
        "colab": {
          "base_uri": "https://localhost:8080/"
        },
        "id": "ZXvlX93-Rjow",
        "outputId": "96ae8397-9f7f-4a6e-ceec-601c55aca0c9"
      },
      "execution_count": 13,
      "outputs": [
        {
          "output_type": "stream",
          "name": "stdout",
          "text": [
            "The shape before (Trainning set): (209, 64, 64, 3)\n",
            "The shape after (Trainning set): (12288, 209)\n"
          ]
        }
      ]
    },
    {
      "cell_type": "markdown",
      "source": [
        "Standrize the data"
      ],
      "metadata": {
        "id": "jYkBVjrW5Ajj"
      }
    },
    {
      "cell_type": "code",
      "source": [
        "train_set_x = train_set_x_flatten / 255\n",
        "test_set_x = test_set_x_flatten / 255"
      ],
      "metadata": {
        "id": "e4cmjcnWTPs3"
      },
      "execution_count": 14,
      "outputs": []
    },
    {
      "cell_type": "markdown",
      "source": [
        "Sigmoid function \n"
      ],
      "metadata": {
        "id": "mNF_dBq16xxQ"
      }
    },
    {
      "cell_type": "code",
      "source": [
        "def sigmoid(x):\n",
        "  s = 1/(1+np.exp(-x))\n",
        "  return s"
      ],
      "metadata": {
        "id": "GP8cEBRW5-SK"
      },
      "execution_count": 15,
      "outputs": []
    },
    {
      "cell_type": "code",
      "source": [
        "sigmoid(0)"
      ],
      "metadata": {
        "colab": {
          "base_uri": "https://localhost:8080/"
        },
        "id": "DPni-VJ9LiPo",
        "outputId": "f191716a-361b-4b17-d1ea-bf9f0864eb86"
      },
      "execution_count": null,
      "outputs": [
        {
          "output_type": "execute_result",
          "data": {
            "text/plain": [
              "0.5"
            ]
          },
          "metadata": {},
          "execution_count": 13
        }
      ]
    },
    {
      "cell_type": "code",
      "source": [
        "def initialize(dim):\n",
        "  w = np.zeros((dim,1))\n",
        "  b = 0\n",
        "  return w,b"
      ],
      "metadata": {
        "id": "8x9Py6M2LkZM"
      },
      "execution_count": 16,
      "outputs": []
    },
    {
      "cell_type": "code",
      "source": [
        "initialize(2)"
      ],
      "metadata": {
        "colab": {
          "base_uri": "https://localhost:8080/"
        },
        "id": "Z-UNOBMPNIcJ",
        "outputId": "991c3570-3165-464d-a450-39fa7338525a"
      },
      "execution_count": null,
      "outputs": [
        {
          "output_type": "execute_result",
          "data": {
            "text/plain": [
              "(array([[0.],\n",
              "        [0.]]), 0)"
            ]
          },
          "metadata": {},
          "execution_count": 17
        }
      ]
    },
    {
      "cell_type": "markdown",
      "source": [
        "Forward and Backward propagation"
      ],
      "metadata": {
        "id": "F6YqnSvGNfxx"
      }
    },
    {
      "cell_type": "code",
      "source": [
        "def propagate(w,b,X,Y):\n",
        "  m = X.shape[1]\n",
        "  #Forward Propagation\n",
        "  A = sigmoid(np.dot(w.T, X) + b)  \n",
        "  cost = (- 1 / m) * np.sum(Y * np.log(A) + (1 - Y) * (np.log(1 - A)))\n",
        "\n",
        "  #Backward Propagation\n",
        "  dw = (1 / m) * np.dot(X, (A - Y).T)\n",
        "  db = (1 / m) * np.sum(A - Y)\n",
        "\n",
        "  cost = np.squeeze(cost)\n",
        "  grads = {\"dw\": dw,\"db\": db}\n",
        "  return grads, cost"
      ],
      "metadata": {
        "id": "PBDZqzViNZNg"
      },
      "execution_count": 17,
      "outputs": []
    },
    {
      "cell_type": "code",
      "source": [
        "w, b, X, Y = np.array([[1], [2]]), 2, np.array([[1,2], [3,4]]), np.array([[1, 0]])\n",
        "grads, cost = propagate(w, b, X, Y)\n",
        "print (\"dw = \" + str(grads[\"dw\"]))\n",
        "print (\"db = \" + str(grads[\"db\"]))\n",
        "print (\"cost = \" + str(cost))"
      ],
      "metadata": {
        "colab": {
          "base_uri": "https://localhost:8080/"
        },
        "id": "JB64BM9as5e9",
        "outputId": "004c4bdf-880d-490c-c4c2-9e3dba20479a"
      },
      "execution_count": 18,
      "outputs": [
        {
          "output_type": "stream",
          "name": "stdout",
          "text": [
            "dw = [[0.99993216]\n",
            " [1.99980262]]\n",
            "db = 0.49993523062470574\n",
            "cost = 6.000064773192205\n"
          ]
        }
      ]
    },
    {
      "cell_type": "markdown",
      "source": [
        "The optimization function.\n",
        "\n",
        " The goal is to learn w and b by minimizing the cost function J."
      ],
      "metadata": {
        "id": "JecJJEwjtmpj"
      }
    },
    {
      "cell_type": "code",
      "source": [
        "def optimize(w, b, X, Y, num_iterations, learning_rate):\n",
        "  costs = []\n",
        "  for i in range(num_iterations):\n",
        "    grads, cost = propagate(w, b, X, Y)\n",
        "    \n",
        "    dw = grads[\"dw\"]\n",
        "    db = grads[\"db\"]\n",
        "\n",
        "    w = w - learning_rate * dw  \n",
        "    b = b - learning_rate * db\n",
        "\n",
        "    if i % 100 == 0:\n",
        "      costs.append(cost)\n",
        "\n",
        "  params = {\"w\": w, \"b\": b}\n",
        "  grads = {\"dw\": dw,\"db\": db}\n",
        "\n",
        "  return params, grads, costs"
      ],
      "metadata": {
        "id": "r-u_DWsktZjj"
      },
      "execution_count": 19,
      "outputs": []
    },
    {
      "cell_type": "code",
      "source": [
        "params, grads, costs = optimize(w, b, X, Y, num_iterations= 100, learning_rate = 0.009)\n",
        "print (\"w = \" + str(params[\"w\"]))\n",
        "print (\"b = \" + str(params[\"b\"]))\n",
        "print (\"dw = \" + str(grads[\"dw\"]))\n",
        "print (\"db = \" + str(grads[\"db\"]))"
      ],
      "metadata": {
        "colab": {
          "base_uri": "https://localhost:8080/"
        },
        "id": "9am052pRvdu7",
        "outputId": "89720ed9-b41d-4a81-a7cf-ec6308670cab"
      },
      "execution_count": 21,
      "outputs": [
        {
          "output_type": "stream",
          "name": "stdout",
          "text": [
            "w = [[0.1124579 ]\n",
            " [0.23106775]]\n",
            "b = 1.5593049248448891\n",
            "dw = [[0.90158428]\n",
            " [1.76250842]]\n",
            "db = 0.4304620716786828\n"
          ]
        }
      ]
    },
    {
      "cell_type": "code",
      "source": [
        "def predict(w, b, X):\n",
        "  m = X.shape[1]\n",
        "  y = np.zeros((1, m))\n",
        "  w = w.reshape(X.shape[0], 1)\n",
        "\n",
        "  A = sigmoid(np.dot(w.T, X) + b)\n",
        "\n",
        "  for i in range(A.shape[1]):\n",
        "    y[0, i] = 1 if A[0, i] > 0.5 else 0\n",
        "\n",
        "  return y"
      ],
      "metadata": {
        "id": "Ppe1zZ55vwAC"
      },
      "execution_count": 22,
      "outputs": []
    },
    {
      "cell_type": "markdown",
      "source": [
        "The Model"
      ],
      "metadata": {
        "id": "Wjn70okjxJVY"
      }
    },
    {
      "cell_type": "code",
      "source": [
        "def model(X_train, Y_train, X_test, Y_test, num_iterations=2000, learning_rate=0.5):\n",
        "  w, b = initialize(X_train.shape[0])\n",
        "  parameters, grads, costs = optimize(w, b, X_train, Y_train, num_iterations, learning_rate)\n",
        "  w = parameters[\"w\"]\n",
        "  b = parameters[\"b\"]\n",
        "\n",
        "  y_test = predict(w, b, X_test)\n",
        "  y_train = predict(w, b, X_train)\n",
        "\n",
        "  print(\"train accuracy: {} %\".format(100 - np.mean(np.abs(y_train - Y_train)) * 100))\n",
        "  print(\"test accuracy: {} %\".format(100 - np.mean(np.abs(y_test - Y_test)) * 100))\n",
        "\n",
        "  p = {\"costs\": costs,\n",
        "       \"Y_prediction_test\": y_test, \n",
        "        \"Y_prediction_train\" : y_train, \n",
        "        \"w\" : w, \n",
        "         \"b\" : b,\n",
        "        \"learning_rate\" : learning_rate,\n",
        "        \"num_iterations\": num_iterations}\n",
        "  return p"
      ],
      "metadata": {
        "id": "510pqkzSwi5W"
      },
      "execution_count": 24,
      "outputs": []
    },
    {
      "cell_type": "code",
      "source": [
        "p = model(train_set_x, train_set_y, test_set_x, test_set_y, num_iterations = 50, learning_rate = 0.005)"
      ],
      "metadata": {
        "colab": {
          "base_uri": "https://localhost:8080/"
        },
        "id": "20c7tWmnx_oj",
        "outputId": "063b604d-a9dd-4ae2-ed45-41661cd84889"
      },
      "execution_count": 25,
      "outputs": [
        {
          "output_type": "stream",
          "name": "stdout",
          "text": [
            "train accuracy: 59.80861244019139 %\n",
            "test accuracy: 80.0 %\n"
          ]
        }
      ]
    }
  ]
}